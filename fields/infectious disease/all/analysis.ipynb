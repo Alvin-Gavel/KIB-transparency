{
 "cells": [
  {
   "cell_type": "code",
   "execution_count": 1,
   "metadata": {},
   "outputs": [],
   "source": [
    "import pandas as pd"
   ]
  },
  {
   "cell_type": "code",
   "execution_count": 5,
   "metadata": {},
   "outputs": [
    {
     "data": {
      "text/html": [
       "<div>\n",
       "<style scoped>\n",
       "    .dataframe tbody tr th:only-of-type {\n",
       "        vertical-align: middle;\n",
       "    }\n",
       "\n",
       "    .dataframe tbody tr th {\n",
       "        vertical-align: top;\n",
       "    }\n",
       "\n",
       "    .dataframe thead th {\n",
       "        text-align: right;\n",
       "    }\n",
       "</style>\n",
       "<table border=\"1\" class=\"dataframe\">\n",
       "  <thead>\n",
       "    <tr style=\"text-align: right;\">\n",
       "      <th></th>\n",
       "      <th>PMID</th>\n",
       "      <th>Title_x</th>\n",
       "      <th>Authors_x</th>\n",
       "      <th>Citation_x</th>\n",
       "      <th>First Author_x</th>\n",
       "      <th>Journal/Book_x</th>\n",
       "      <th>Publication Year_x</th>\n",
       "      <th>Create Date_x</th>\n",
       "      <th>PMCID_x</th>\n",
       "      <th>NIHMS ID_x</th>\n",
       "      <th>...</th>\n",
       "      <th>Title_y</th>\n",
       "      <th>Authors_y</th>\n",
       "      <th>Citation_y</th>\n",
       "      <th>First Author_y</th>\n",
       "      <th>Journal/Book_y</th>\n",
       "      <th>Publication Year_y</th>\n",
       "      <th>Create Date_y</th>\n",
       "      <th>PMCID_y</th>\n",
       "      <th>NIHMS ID_y</th>\n",
       "      <th>DOI_y</th>\n",
       "    </tr>\n",
       "  </thead>\n",
       "  <tbody>\n",
       "  </tbody>\n",
       "</table>\n",
       "<p>0 rows × 21 columns</p>\n",
       "</div>"
      ],
      "text/plain": [
       "Empty DataFrame\n",
       "Columns: [PMID, Title_x, Authors_x, Citation_x, First Author_x, Journal/Book_x, Publication Year_x, Create Date_x, PMCID_x, NIHMS ID_x, DOI_x, Title_y, Authors_y, Citation_y, First Author_y, Journal/Book_y, Publication Year_y, Create Date_y, PMCID_y, NIHMS ID_y, DOI_y]\n",
       "Index: []\n",
       "\n",
       "[0 rows x 21 columns]"
      ]
     },
     "execution_count": 5,
     "metadata": {},
     "output_type": "execute_result"
    }
   ],
   "source": [
    "df2019=pd.read_csv('2019.csv')\n",
    "df2019['Publication Year']=2019\n",
    "df2021=pd.read_csv('2021.csv')\n",
    "df2021['Publication Year']=2021"
   ]
  },
  {
   "cell_type": "code",
   "execution_count": 12,
   "metadata": {},
   "outputs": [],
   "source": [
    "pd.concat([df2019,df2021],axis=0).to_csv('search.csv', index=False)"
   ]
  },
  {
   "cell_type": "code",
   "execution_count": null,
   "metadata": {},
   "outputs": [],
   "source": []
  }
 ],
 "metadata": {
  "kernelspec": {
   "display_name": "Python 3.9.7 ('base')",
   "language": "python",
   "name": "python3"
  },
  "language_info": {
   "codemirror_mode": {
    "name": "ipython",
    "version": 3
   },
   "file_extension": ".py",
   "mimetype": "text/x-python",
   "name": "python",
   "nbconvert_exporter": "python",
   "pygments_lexer": "ipython3",
   "version": "3.9.7"
  },
  "orig_nbformat": 4,
  "vscode": {
   "interpreter": {
    "hash": "69b35e572c017242754d2580afe35edb3e077b807609d926fbd2f462de31a9e0"
   }
  }
 },
 "nbformat": 4,
 "nbformat_minor": 2
}
