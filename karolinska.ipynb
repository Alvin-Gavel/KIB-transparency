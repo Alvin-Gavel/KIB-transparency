{
 "cells": [
  {
   "cell_type": "code",
   "execution_count": 39,
   "metadata": {},
   "outputs": [],
   "source": [
    "import pandas as pd"
   ]
  },
  {
   "cell_type": "code",
   "execution_count": 40,
   "metadata": {},
   "outputs": [],
   "source": [
    "left=pd.read_csv('karolinska_under_the_loupe.csv')\n",
    "pmcoaki=pd.read_csv('./pmcoalist_ki.csv')\n",
    "pmcoaki = pmcoaki.rename(columns={'PMID':'pmid'})\n",
    "\n",
    "left=left.dropna(subset=['is_open_code','is_open_data','is_register_pred','is_coi_pred','is_fund_pred'])\n",
    "left=pd.merge(left,pmcoaki,on='pmid')\n",
    "left=left[left.is_research_x]\n",
    "columns=['pmid','is_coi_pred','is_register_pred','is_fund_pred','is_open_code','is_open_data','Publication Year','Institution','Journal/Book']\n",
    "left=pd.DataFrame(left, columns=columns)"
   ]
  },
  {
   "cell_type": "code",
   "execution_count": 41,
   "metadata": {},
   "outputs": [],
   "source": [
    "right=pd.read_csv('kidept_pmids_orgbased_2010_2022.csv')"
   ]
  },
  {
   "cell_type": "code",
   "execution_count": 42,
   "metadata": {},
   "outputs": [],
   "source": [
    "left=left.set_index('pmid').join(right.set_index('pmid'), how='inner')\n",
    "left['is_open_code']=left['is_open_code'].astype('bool')\n",
    "left['is_open_data']=left['is_open_data'].astype('bool')"
   ]
  },
  {
   "cell_type": "markdown",
   "metadata": {},
   "source": [
    "# remove misc"
   ]
  },
  {
   "cell_type": "code",
   "execution_count": 43,
   "metadata": {},
   "outputs": [],
   "source": [
    "left=left[~left.short_name.isin(['ETV','MWLC','KM','Unitand','UL','KIB'])]"
   ]
  },
  {
   "cell_type": "code",
   "execution_count": 44,
   "metadata": {},
   "outputs": [],
   "source": [
    "left=left[left['Publication Year'].isin([2017,2018,2019,2020,2021])]"
   ]
  },
  {
   "cell_type": "code",
   "execution_count": 45,
   "metadata": {},
   "outputs": [],
   "source": [
    "round(left.groupby(['Publication Year','short_name']).mean()*100,1).to_csv('general.csv')"
   ]
  },
  {
   "cell_type": "code",
   "execution_count": 46,
   "metadata": {},
   "outputs": [],
   "source": [
    "preclinical=left[left.short_name.isin(['FyFa','MTC','BioNut','CMB','CNS','MBB', 'LABMED','OnkPat'])]\n",
    "\n",
    "clinical=left[left.short_name.isin(['KBH','MMK','MedH','MedS', 'KI DS','KI SÖS','Neuro', 'CLINTEC'])]\n",
    "\n",
    "epi=left[left.short_name.isin(['MEB','GPH','IMM'])]\n",
    "rest=left[left.short_name.isin(['LIME','NVS'])]\n"
   ]
  },
  {
   "cell_type": "code",
   "execution_count": 47,
   "metadata": {},
   "outputs": [],
   "source": [
    "round(preclinical.groupby(['Publication Year','short_name']).mean()*100,1).to_csv('preclinical.csv')\n",
    "round(clinical.groupby(['Publication Year','short_name']).mean()*100,1).to_csv('clinical.csv')\n",
    "round(epi.groupby(['Publication Year','short_name']).mean()*100,1).to_csv('epi.csv')\n",
    "round(rest.groupby(['Publication Year','short_name']).mean()*100,1).to_csv('rest.csv')\n"
   ]
  }
 ],
 "metadata": {
  "kernelspec": {
   "display_name": "Python 3.9.7 ('base')",
   "language": "python",
   "name": "python3"
  },
  "language_info": {
   "codemirror_mode": {
    "name": "ipython",
    "version": 3
   },
   "file_extension": ".py",
   "mimetype": "text/x-python",
   "name": "python",
   "nbconvert_exporter": "python",
   "pygments_lexer": "ipython3",
   "version": "3.9.7"
  },
  "orig_nbformat": 4,
  "vscode": {
   "interpreter": {
    "hash": "69b35e572c017242754d2580afe35edb3e077b807609d926fbd2f462de31a9e0"
   }
  }
 },
 "nbformat": 4,
 "nbformat_minor": 2
}
